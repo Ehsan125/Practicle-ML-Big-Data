{
 "cells": [
  {
   "cell_type": "markdown",
   "metadata": {},
   "source": [
    "# Practical Machine learning walkthrough\n"
   ]
  },
  {
   "cell_type": "markdown",
   "metadata": {},
   "source": [
    "### Scikit-learn training and testing model\n",
    "<img src=\"supervised_workflow.svg\" width=\"50%\">"
   ]
  },
  {
   "cell_type": "markdown",
   "metadata": {},
   "source": [
    "### Loading the Iris Data with Scikit-learn\n",
    "\n",
    "Taken from the [UCI machine learning repository](http://archive.ics.uci.edu/ml/), which hosts many of the commonly used datasets that are useful for benchmarking machine learning algorithms -- a very popular resource for machine learning practioners and researchers. Conveniently, some of these datasets are already included in scikit-learn.\n",
    "\n",
    "For example, scikit-learn has a very straightforward set of data on these iris species.  The data consist of\n",
    "the following:\n",
    "\n",
    "- Features in the Iris dataset:\n",
    "\n",
    "  1. sepal length in cm\n",
    "  2. sepal width in cm\n",
    "  3. petal length in cm\n",
    "  4. petal width in cm\n",
    "\n",
    "- Target classes to predict:\n",
    "\n",
    "  1. Iris Setosa\n",
    "  2. Iris Versicolour\n",
    "  3. Iris Virginica\n",
    "  \n",
    "  <img src=\"petal_sepal.jpg\" alt=\"Sepal\" style=\"width: 50%;\"/>\n",
    "\n",
    "(Image: \"Petal-sepal\". Licensed under CC BY-SA 3.0 via Wikimedia Commons - https://commons.wikimedia.org/wiki/File:Petal-sepal.jpg#/media/File:Petal-sepal.jpg)"
   ]
  },
  {
   "cell_type": "code",
   "execution_count": 1,
   "metadata": {},
   "outputs": [
    {
     "data": {
      "text/plain": [
       "sklearn.utils.Bunch"
      ]
     },
     "execution_count": 1,
     "metadata": {},
     "output_type": "execute_result"
    }
   ],
   "source": [
    "from sklearn.datasets import load_iris\n",
    "# save \"bunch\" object containing iris dataset and its attributes\n",
    "iris = load_iris()\n",
    "type(iris)"
   ]
  },
  {
   "cell_type": "code",
   "execution_count": 2,
   "metadata": {},
   "outputs": [
    {
     "name": "stdout",
     "output_type": "stream",
     "text": [
      "['sepal length (cm)', 'sepal width (cm)', 'petal length (cm)', 'petal width (cm)']\n",
      "[[ 5.1  3.5  1.4  0.2]\n",
      " [ 4.9  3.   1.4  0.2]\n",
      " [ 4.7  3.2  1.3  0.2]\n",
      " [ 4.6  3.1  1.5  0.2]\n",
      " [ 5.   3.6  1.4  0.2]\n",
      " [ 5.4  3.9  1.7  0.4]\n",
      " [ 4.6  3.4  1.4  0.3]\n",
      " [ 5.   3.4  1.5  0.2]\n",
      " [ 4.4  2.9  1.4  0.2]\n",
      " [ 4.9  3.1  1.5  0.1]\n",
      " [ 5.4  3.7  1.5  0.2]\n",
      " [ 4.8  3.4  1.6  0.2]\n",
      " [ 4.8  3.   1.4  0.1]\n",
      " [ 4.3  3.   1.1  0.1]\n",
      " [ 5.8  4.   1.2  0.2]\n",
      " [ 5.7  4.4  1.5  0.4]\n",
      " [ 5.4  3.9  1.3  0.4]\n",
      " [ 5.1  3.5  1.4  0.3]\n",
      " [ 5.7  3.8  1.7  0.3]\n",
      " [ 5.1  3.8  1.5  0.3]\n",
      " [ 5.4  3.4  1.7  0.2]\n",
      " [ 5.1  3.7  1.5  0.4]\n",
      " [ 4.6  3.6  1.   0.2]\n",
      " [ 5.1  3.3  1.7  0.5]\n",
      " [ 4.8  3.4  1.9  0.2]\n",
      " [ 5.   3.   1.6  0.2]\n",
      " [ 5.   3.4  1.6  0.4]\n",
      " [ 5.2  3.5  1.5  0.2]\n",
      " [ 5.2  3.4  1.4  0.2]\n",
      " [ 4.7  3.2  1.6  0.2]\n",
      " [ 4.8  3.1  1.6  0.2]\n",
      " [ 5.4  3.4  1.5  0.4]\n",
      " [ 5.2  4.1  1.5  0.1]\n",
      " [ 5.5  4.2  1.4  0.2]\n",
      " [ 4.9  3.1  1.5  0.1]\n",
      " [ 5.   3.2  1.2  0.2]\n",
      " [ 5.5  3.5  1.3  0.2]\n",
      " [ 4.9  3.1  1.5  0.1]\n",
      " [ 4.4  3.   1.3  0.2]\n",
      " [ 5.1  3.4  1.5  0.2]\n",
      " [ 5.   3.5  1.3  0.3]\n",
      " [ 4.5  2.3  1.3  0.3]\n",
      " [ 4.4  3.2  1.3  0.2]\n",
      " [ 5.   3.5  1.6  0.6]\n",
      " [ 5.1  3.8  1.9  0.4]\n",
      " [ 4.8  3.   1.4  0.3]\n",
      " [ 5.1  3.8  1.6  0.2]\n",
      " [ 4.6  3.2  1.4  0.2]\n",
      " [ 5.3  3.7  1.5  0.2]\n",
      " [ 5.   3.3  1.4  0.2]\n",
      " [ 7.   3.2  4.7  1.4]\n",
      " [ 6.4  3.2  4.5  1.5]\n",
      " [ 6.9  3.1  4.9  1.5]\n",
      " [ 5.5  2.3  4.   1.3]\n",
      " [ 6.5  2.8  4.6  1.5]\n",
      " [ 5.7  2.8  4.5  1.3]\n",
      " [ 6.3  3.3  4.7  1.6]\n",
      " [ 4.9  2.4  3.3  1. ]\n",
      " [ 6.6  2.9  4.6  1.3]\n",
      " [ 5.2  2.7  3.9  1.4]\n",
      " [ 5.   2.   3.5  1. ]\n",
      " [ 5.9  3.   4.2  1.5]\n",
      " [ 6.   2.2  4.   1. ]\n",
      " [ 6.1  2.9  4.7  1.4]\n",
      " [ 5.6  2.9  3.6  1.3]\n",
      " [ 6.7  3.1  4.4  1.4]\n",
      " [ 5.6  3.   4.5  1.5]\n",
      " [ 5.8  2.7  4.1  1. ]\n",
      " [ 6.2  2.2  4.5  1.5]\n",
      " [ 5.6  2.5  3.9  1.1]\n",
      " [ 5.9  3.2  4.8  1.8]\n",
      " [ 6.1  2.8  4.   1.3]\n",
      " [ 6.3  2.5  4.9  1.5]\n",
      " [ 6.1  2.8  4.7  1.2]\n",
      " [ 6.4  2.9  4.3  1.3]\n",
      " [ 6.6  3.   4.4  1.4]\n",
      " [ 6.8  2.8  4.8  1.4]\n",
      " [ 6.7  3.   5.   1.7]\n",
      " [ 6.   2.9  4.5  1.5]\n",
      " [ 5.7  2.6  3.5  1. ]\n",
      " [ 5.5  2.4  3.8  1.1]\n",
      " [ 5.5  2.4  3.7  1. ]\n",
      " [ 5.8  2.7  3.9  1.2]\n",
      " [ 6.   2.7  5.1  1.6]\n",
      " [ 5.4  3.   4.5  1.5]\n",
      " [ 6.   3.4  4.5  1.6]\n",
      " [ 6.7  3.1  4.7  1.5]\n",
      " [ 6.3  2.3  4.4  1.3]\n",
      " [ 5.6  3.   4.1  1.3]\n",
      " [ 5.5  2.5  4.   1.3]\n",
      " [ 5.5  2.6  4.4  1.2]\n",
      " [ 6.1  3.   4.6  1.4]\n",
      " [ 5.8  2.6  4.   1.2]\n",
      " [ 5.   2.3  3.3  1. ]\n",
      " [ 5.6  2.7  4.2  1.3]\n",
      " [ 5.7  3.   4.2  1.2]\n",
      " [ 5.7  2.9  4.2  1.3]\n",
      " [ 6.2  2.9  4.3  1.3]\n",
      " [ 5.1  2.5  3.   1.1]\n",
      " [ 5.7  2.8  4.1  1.3]\n",
      " [ 6.3  3.3  6.   2.5]\n",
      " [ 5.8  2.7  5.1  1.9]\n",
      " [ 7.1  3.   5.9  2.1]\n",
      " [ 6.3  2.9  5.6  1.8]\n",
      " [ 6.5  3.   5.8  2.2]\n",
      " [ 7.6  3.   6.6  2.1]\n",
      " [ 4.9  2.5  4.5  1.7]\n",
      " [ 7.3  2.9  6.3  1.8]\n",
      " [ 6.7  2.5  5.8  1.8]\n",
      " [ 7.2  3.6  6.1  2.5]\n",
      " [ 6.5  3.2  5.1  2. ]\n",
      " [ 6.4  2.7  5.3  1.9]\n",
      " [ 6.8  3.   5.5  2.1]\n",
      " [ 5.7  2.5  5.   2. ]\n",
      " [ 5.8  2.8  5.1  2.4]\n",
      " [ 6.4  3.2  5.3  2.3]\n",
      " [ 6.5  3.   5.5  1.8]\n",
      " [ 7.7  3.8  6.7  2.2]\n",
      " [ 7.7  2.6  6.9  2.3]\n",
      " [ 6.   2.2  5.   1.5]\n",
      " [ 6.9  3.2  5.7  2.3]\n",
      " [ 5.6  2.8  4.9  2. ]\n",
      " [ 7.7  2.8  6.7  2. ]\n",
      " [ 6.3  2.7  4.9  1.8]\n",
      " [ 6.7  3.3  5.7  2.1]\n",
      " [ 7.2  3.2  6.   1.8]\n",
      " [ 6.2  2.8  4.8  1.8]\n",
      " [ 6.1  3.   4.9  1.8]\n",
      " [ 6.4  2.8  5.6  2.1]\n",
      " [ 7.2  3.   5.8  1.6]\n",
      " [ 7.4  2.8  6.1  1.9]\n",
      " [ 7.9  3.8  6.4  2. ]\n",
      " [ 6.4  2.8  5.6  2.2]\n",
      " [ 6.3  2.8  5.1  1.5]\n",
      " [ 6.1  2.6  5.6  1.4]\n",
      " [ 7.7  3.   6.1  2.3]\n",
      " [ 6.3  3.4  5.6  2.4]\n",
      " [ 6.4  3.1  5.5  1.8]\n",
      " [ 6.   3.   4.8  1.8]\n",
      " [ 6.9  3.1  5.4  2.1]\n",
      " [ 6.7  3.1  5.6  2.4]\n",
      " [ 6.9  3.1  5.1  2.3]\n",
      " [ 5.8  2.7  5.1  1.9]\n",
      " [ 6.8  3.2  5.9  2.3]\n",
      " [ 6.7  3.3  5.7  2.5]\n",
      " [ 6.7  3.   5.2  2.3]\n",
      " [ 6.3  2.5  5.   1.9]\n",
      " [ 6.5  3.   5.2  2. ]\n",
      " [ 6.2  3.4  5.4  2.3]\n",
      " [ 5.9  3.   5.1  1.8]]\n"
     ]
    }
   ],
   "source": [
    "# print the names of the four features\n",
    "print(iris.feature_names)\n",
    "# print the iris data\n",
    "print (iris.data)"
   ]
  },
  {
   "cell_type": "code",
   "execution_count": 3,
   "metadata": {},
   "outputs": [
    {
     "name": "stdout",
     "output_type": "stream",
     "text": [
      "['setosa' 'versicolor' 'virginica']\n",
      "[0 0 0 0 0 0 0 0 0 0 0 0 0 0 0 0 0 0 0 0 0 0 0 0 0 0 0 0 0 0 0 0 0 0 0 0 0\n",
      " 0 0 0 0 0 0 0 0 0 0 0 0 0 1 1 1 1 1 1 1 1 1 1 1 1 1 1 1 1 1 1 1 1 1 1 1 1\n",
      " 1 1 1 1 1 1 1 1 1 1 1 1 1 1 1 1 1 1 1 1 1 1 1 1 1 1 2 2 2 2 2 2 2 2 2 2 2\n",
      " 2 2 2 2 2 2 2 2 2 2 2 2 2 2 2 2 2 2 2 2 2 2 2 2 2 2 2 2 2 2 2 2 2 2 2 2 2\n",
      " 2 2]\n"
     ]
    }
   ],
   "source": [
    "# print the encoding scheme for species: 0 = setosa, 1 = versicolor, 2 = virginica\n",
    "print(iris.target_names)\n",
    "# print integers representing the species of each observation\n",
    "print(iris.target)"
   ]
  },
  {
   "cell_type": "code",
   "execution_count": 4,
   "metadata": {},
   "outputs": [
    {
     "name": "stdout",
     "output_type": "stream",
     "text": [
      "<class 'numpy.ndarray'>\n",
      "<class 'numpy.ndarray'>\n"
     ]
    }
   ],
   "source": [
    "# check the types of the features and response\n",
    "print(type(iris.data))\n",
    "print(type(iris.target))"
   ]
  },
  {
   "cell_type": "code",
   "execution_count": 5,
   "metadata": {},
   "outputs": [
    {
     "name": "stdout",
     "output_type": "stream",
     "text": [
      "(150, 4)\n",
      "(150,)\n"
     ]
    }
   ],
   "source": [
    "# check the shape of the features (first dimension = number of observations, second dimensions = number of features)\n",
    "print(iris.data.shape)\n",
    "# check the shape of the response (single dimension matching the number of observations)\n",
    "print(iris.target.shape)"
   ]
  },
  {
   "cell_type": "code",
   "execution_count": 6,
   "metadata": {
    "collapsed": true
   },
   "outputs": [],
   "source": [
    "# store feature matrix in \"X\"\n",
    "X = iris.data\n",
    "\n",
    "# store response vector in \"y\"\n",
    "y = iris.target"
   ]
  },
  {
   "cell_type": "code",
   "execution_count": 33,
   "metadata": {},
   "outputs": [
    {
     "data": {
      "image/png": "[encoded data removed]",
      "text/plain": [
       "<matplotlib.figure.Figure at 0xd15df28>"
      ]
     },
     "metadata": {},
     "output_type": "display_data"
    }
   ],
   "source": [
    "%matplotlib inline\n",
    "import mglearn\n",
    "mglearn.plots.plot_knn_classification(n_neighbors=3)"
   ]
  },
  {
   "cell_type": "code",
   "execution_count": 35,
   "metadata": {},
   "outputs": [
    {
     "name": "stdout",
     "output_type": "stream",
     "text": [
      "KNeighborsClassifier(algorithm='auto', leaf_size=30, metric='minkowski',\n",
      "           metric_params=None, n_jobs=1, n_neighbors=5, p=2,\n",
      "           weights='uniform')\n"
     ]
    }
   ],
   "source": [
    "from sklearn.neighbors import KNeighborsClassifier\n",
    "from sklearn import metrics\n",
    "\n",
    "knn = KNeighborsClassifier()\n",
    "#print (knn)\n",
    "knn.fit(X, y)\n",
    "\n",
    "#y_pred = knn.predict(X)\n",
    "#print(metrics.accuracy_score(y, y_pred))\n",
    "\n",
    "print(knn.score(X, y))"
   ]
  },
  {
   "cell_type": "markdown",
   "metadata": {},
   "source": [
    "# Splitting data into Training and Testing set"
   ]
  },
  {
   "cell_type": "code",
   "execution_count": 9,
   "metadata": {},
   "outputs": [
    {
     "data": {
      "text/plain": [
       "KNeighborsClassifier(algorithm='auto', leaf_size=30, metric='minkowski',\n",
       "           metric_params=None, n_jobs=1, n_neighbors=3, p=2,\n",
       "           weights='uniform')"
      ]
     },
     "execution_count": 9,
     "metadata": {},
     "output_type": "execute_result"
    }
   ],
   "source": [
    "from sklearn.model_selection import train_test_split\n",
    "X_train, X_test, y_train, y_test = train_test_split(X, y, stratify=y, random_state=40)\n",
    "knn = KNeighborsClassifier(n_neighbors=3)\n",
    "knn.fit(X_train, y_train)"
   ]
  },
  {
   "cell_type": "code",
   "execution_count": 10,
   "metadata": {},
   "outputs": [
    {
     "name": "stdout",
     "output_type": "stream",
     "text": [
      "Accuracy of KNN n-5, on the Testing set: 0.974\n"
     ]
    }
   ],
   "source": [
    "y_pred = knn.predict(X_test)\n",
    "print('Accuracy of KNN n-5, on the Testing set: {:.3f}'.format(metrics.accuracy_score(y_test, y_pred)))"
   ]
  },
  {
   "cell_type": "code",
   "execution_count": 11,
   "metadata": {},
   "outputs": [
    {
     "name": "stdout",
     "output_type": "stream",
     "text": [
      "Accuracy of KNN n-5, on the training set: 0.955\n"
     ]
    }
   ],
   "source": [
    "y_pred = knn.predict(X_train)\n",
    "print('Accuracy of KNN n-5, on the training set: {:.3f}'.format(metrics.accuracy_score(y_train, y_pred)))"
   ]
  },
  {
   "cell_type": "markdown",
   "metadata": {},
   "source": [
    "# Cross Validation"
   ]
  },
  {
   "cell_type": "code",
   "execution_count": 12,
   "metadata": {},
   "outputs": [
    {
     "name": "stderr",
     "output_type": "stream",
     "text": [
      "C:\\Users\\polyvista\\Anaconda6\\lib\\site-packages\\matplotlib\\pyplot.py:2648: MatplotlibDeprecationWarning: The *bottom* kwarg to `barh` is deprecated use *y* instead. Support for *bottom* will be removed in Matplotlib 3.0\n",
      "  ret = ax.barh(*args, **kwargs)\n"
     ]
    },
    {
     "data": {
      "image/png": "[encoded data removed]",
      "text/plain": [
       "<matplotlib.figure.Figure at 0xcd1f320>"
      ]
     },
     "metadata": {},
     "output_type": "display_data"
    }
   ],
   "source": [
    "mglearn.plots.plot_cross_validation()"
   ]
  },
  {
   "cell_type": "code",
   "execution_count": 13,
   "metadata": {},
   "outputs": [
    {
     "name": "stdout",
     "output_type": "stream",
     "text": [
      "cross-validation scores:  [ 0.98039216  0.96078431  1.        ]\n"
     ]
    },
    {
     "data": {
      "text/plain": [
       "numpy.ndarray"
      ]
     },
     "execution_count": 13,
     "metadata": {},
     "output_type": "execute_result"
    }
   ],
   "source": [
    "from sklearn.model_selection import cross_val_score\n",
    "scores = cross_val_score(knn, iris.data, iris.target)\n",
    "print(\"cross-validation scores: \", scores)\n",
    "scores.mean()\n",
    "type(scores)"
   ]
  },
  {
   "cell_type": "code",
   "execution_count": 14,
   "metadata": {},
   "outputs": [
    {
     "name": "stdout",
     "output_type": "stream",
     "text": [
      "cross-validation scores:  [ 0.96666667  0.96666667  0.93333333  0.96666667  1.        ]\n"
     ]
    }
   ],
   "source": [
    "scores = cross_val_score(knn, iris.data, iris.target, cv=5)\n",
    "print(\"cross-validation scores: \", scores)\n",
    "#scores.mean()"
   ]
  },
  {
   "cell_type": "markdown",
   "metadata": {},
   "source": [
    "# Stratified K-Fold cross-validation"
   ]
  },
  {
   "cell_type": "code",
   "execution_count": 15,
   "metadata": {},
   "outputs": [
    {
     "name": "stdout",
     "output_type": "stream",
     "text": [
      "[0 0 0 0 0 0 0 0 0 0 0 0 0 0 0 0 0 0 0 0 0 0 0 0 0 0 0 0 0 0 0 0 0 0 0 0 0\n",
      " 0 0 0 0 0 0 0 0 0 0 0 0 0 1 1 1 1 1 1 1 1 1 1 1 1 1 1 1 1 1 1 1 1 1 1 1 1\n",
      " 1 1 1 1 1 1 1 1 1 1 1 1 1 1 1 1 1 1 1 1 1 1 1 1 1 1 2 2 2 2 2 2 2 2 2 2 2\n",
      " 2 2 2 2 2 2 2 2 2 2 2 2 2 2 2 2 2 2 2 2 2 2 2 2 2 2 2 2 2 2 2 2 2 2 2 2 2\n",
      " 2 2]\n"
     ]
    }
   ],
   "source": [
    "#from sklearn.datasets import load_iris\n",
    "iris = load_iris()\n",
    "print(iris.target)"
   ]
  },
  {
   "cell_type": "code",
   "execution_count": 16,
   "metadata": {},
   "outputs": [
    {
     "name": "stderr",
     "output_type": "stream",
     "text": [
      "C:\\Users\\polyvista\\Anaconda6\\lib\\site-packages\\mglearn\\plot_cross_validation.py:121: MatplotlibDeprecationWarning: The *bottom* kwarg to `barh` is deprecated use *y* instead. Support for *bottom* will be removed in Matplotlib 3.0\n",
      "  color=colors, hatch=\"//\", edgecolor='k', align='edge')\n",
      "C:\\Users\\polyvista\\Anaconda6\\lib\\site-packages\\mglearn\\plot_cross_validation.py:125: MatplotlibDeprecationWarning: The *bottom* kwarg to `barh` is deprecated use *y* instead. Support for *bottom* will be removed in Matplotlib 3.0\n",
      "  color=\"w\", edgecolor='k', align='edge')\n",
      "C:\\Users\\polyvista\\Anaconda6\\lib\\site-packages\\mglearn\\plot_cross_validation.py:158: MatplotlibDeprecationWarning: The *bottom* kwarg to `barh` is deprecated use *y* instead. Support for *bottom* will be removed in Matplotlib 3.0\n",
      "  height=.6, color=\"grey\", hatch=\"//\", edgecolor='k', align='edge')\n",
      "C:\\Users\\polyvista\\Anaconda6\\lib\\site-packages\\mglearn\\plot_cross_validation.py:163: MatplotlibDeprecationWarning: The *bottom* kwarg to `barh` is deprecated use *y* instead. Support for *bottom* will be removed in Matplotlib 3.0\n",
      "  hatch=\"//\", edgecolor='k', align='edge')\n",
      "C:\\Users\\polyvista\\Anaconda6\\lib\\site-packages\\mglearn\\plot_cross_validation.py:167: MatplotlibDeprecationWarning: The *bottom* kwarg to `barh` is deprecated use *y* instead. Support for *bottom* will be removed in Matplotlib 3.0\n",
      "  edgecolor='k', align='edge')\n",
      "C:\\Users\\polyvista\\Anaconda6\\lib\\site-packages\\mglearn\\plot_cross_validation.py:171: MatplotlibDeprecationWarning: The *bottom* kwarg to `barh` is deprecated use *y* instead. Support for *bottom* will be removed in Matplotlib 3.0\n",
      "  align='edge')\n",
      "C:\\Users\\polyvista\\Anaconda6\\lib\\site-packages\\mglearn\\plot_cross_validation.py:175: MatplotlibDeprecationWarning: The *bottom* kwarg to `barh` is deprecated use *y* instead. Support for *bottom* will be removed in Matplotlib 3.0\n",
      "  color=\"w\", edgecolor='k', align='edge')\n"
     ]
    },
    {
     "data": {
      "image/png": "[encoded data removed]",
      "text/plain": [
       "<matplotlib.figure.Figure at 0xcbcefd0>"
      ]
     },
     "metadata": {},
     "output_type": "display_data"
    }
   ],
   "source": [
    "#% matplotlib inline\n",
    "mglearn.plots.plot_stratified_cross_validation()"
   ]
  },
  {
   "cell_type": "markdown",
   "metadata": {},
   "source": [
    "# Improving a model using hypermeters\n",
    "----\n",
    "Using neighbors = [1,2,3 . . . 20] \n",
    "\n",
    "Using weight_options = ['uniform', 'distance'] \n",
    "\n",
    "Using weight_options = ['uniform', 'distance'] and n_neighbors = [1,2,3 . . . 20] "
   ]
  },
  {
   "cell_type": "code",
   "execution_count": 17,
   "metadata": {},
   "outputs": [
    {
     "name": "stdout",
     "output_type": "stream",
     "text": [
      "For neighbour =  1 -- Training accuracy 1.0 === testing accuracy 0.973684210526\n",
      "For neighbour =  2 -- Training accuracy 0.982142857143 === testing accuracy 0.947368421053\n",
      "For neighbour =  3 -- Training accuracy 0.955357142857 === testing accuracy 0.973684210526\n",
      "For neighbour =  4 -- Training accuracy 0.955357142857 === testing accuracy 0.973684210526\n",
      "For neighbour =  5 -- Training accuracy 0.964285714286 === testing accuracy 0.973684210526\n",
      "For neighbour =  6 -- Training accuracy 0.964285714286 === testing accuracy 0.973684210526\n",
      "For neighbour =  7 -- Training accuracy 0.964285714286 === testing accuracy 1.0\n",
      "For neighbour =  8 -- Training accuracy 0.982142857143 === testing accuracy 1.0\n",
      "For neighbour =  9 -- Training accuracy 0.982142857143 === testing accuracy 1.0\n",
      "For neighbour =  10 -- Training accuracy 0.973214285714 === testing accuracy 1.0\n",
      "For neighbour =  11 -- Training accuracy 0.982142857143 === testing accuracy 1.0\n",
      "For neighbour =  12 -- Training accuracy 0.982142857143 === testing accuracy 1.0\n",
      "For neighbour =  13 -- Training accuracy 0.973214285714 === testing accuracy 1.0\n",
      "For neighbour =  14 -- Training accuracy 0.955357142857 === testing accuracy 0.973684210526\n",
      "For neighbour =  15 -- Training accuracy 0.973214285714 === testing accuracy 1.0\n",
      "For neighbour =  16 -- Training accuracy 0.973214285714 === testing accuracy 1.0\n",
      "For neighbour =  17 -- Training accuracy 0.973214285714 === testing accuracy 1.0\n",
      "For neighbour =  18 -- Training accuracy 0.964285714286 === testing accuracy 1.0\n",
      "For neighbour =  19 -- Training accuracy 0.964285714286 === testing accuracy 1.0\n",
      "For neighbour =  20 -- Training accuracy 0.946428571429 === testing accuracy 0.973684210526\n"
     ]
    }
   ],
   "source": [
    "X_train, X_test, y_train, y_test = train_test_split(X, y, stratify=y, random_state=40)\n",
    "# Define a range of 1 to 21 (included) neighbors to be tested\n",
    "neighbors_settings = range(1,21)\n",
    "for n in neighbors_settings:\n",
    "    clf = KNeighborsClassifier(n_neighbors=n)\n",
    "    clf.fit(X_train, y_train)\n",
    "    print ('For neighbour = ', n,'--', 'Training accuracy', clf.score(X_train, y_train), '===', 'testing accuracy', clf.score(X_test, y_test))"
   ]
  },
  {
   "cell_type": "code",
   "execution_count": 18,
   "metadata": {},
   "outputs": [
    {
     "data": {
      "text/plain": [
       "<matplotlib.legend.Legend at 0xd0e3438>"
      ]
     },
     "execution_count": 18,
     "metadata": {},
     "output_type": "execute_result"
    },
    {
     "data": {
      "image/png": "[encoded data removed]",
      "text/plain": [
       "<matplotlib.figure.Figure at 0xca69b00>"
      ]
     },
     "metadata": {},
     "output_type": "display_data"
    }
   ],
   "source": [
    "import matplotlib.pyplot as plt\n",
    "# Resplit the data, with a different randomization (inspired by Muller & Guido ML book - https://www.amazon.com/dp/1449369413/)\n",
    "X_train, X_test, y_train, y_test = train_test_split(X, y, stratify=y, random_state=40)\n",
    "\n",
    "# Create two lists for training and test accuracies\n",
    "training_accuracy = []\n",
    "test_accuracy = []\n",
    "\n",
    "# Define a range of 1 to 31 (included) neighbors to be tested\n",
    "neighbors_settings = range(1,31)\n",
    "\n",
    "# Loop with the KNN through the different number of neighbors to determine the most appropriate (best)\n",
    "for n_neighbors in neighbors_settings:\n",
    "    clf = KNeighborsClassifier(n_neighbors=n_neighbors)\n",
    "    clf.fit(X_train, y_train)\n",
    "    training_accuracy.append(clf.score(X_train, y_train))\n",
    "    test_accuracy.append(clf.score(X_test, y_test))\n",
    "\n",
    "# Visualize results - to help with deciding which n_neigbors yields the best results (n_neighbors=6, in this case)\n",
    "plt.plot(neighbors_settings, training_accuracy, label='Accuracy of the training set')\n",
    "plt.plot(neighbors_settings, test_accuracy, label='Accuracy of the test set')\n",
    "plt.ylabel('Accuracy')\n",
    "plt.xlabel('Number of Neighbors')\n",
    "plt.legend()"
   ]
  },
  {
   "cell_type": "code",
   "execution_count": 19,
   "metadata": {},
   "outputs": [
    {
     "name": "stdout",
     "output_type": "stream",
     "text": [
      "For Weight option =  uniform -- Training accuracy 0.964285714286 === testing accuracy 0.973684210526\n",
      "For Weight option =  distance -- Training accuracy 1.0 === testing accuracy 0.973684210526\n"
     ]
    }
   ],
   "source": [
    "X_train, X_test, y_train, y_test = train_test_split(X, y, stratify=y, random_state=40)\n",
    "\n",
    "weight_options = ['uniform', 'distance']\n",
    "for w in weight_options:\n",
    "    clf = KNeighborsClassifier(weights=w)\n",
    "    clf.fit(X_train, y_train)\n",
    "    print ('For Weight option = ', w,'--', 'Training accuracy', clf.score(X_train, y_train), '===', 'testing accuracy', clf.score(X_test, y_test))\n",
    "    "
   ]
  },
  {
   "cell_type": "code",
   "execution_count": 20,
   "metadata": {},
   "outputs": [
    {
     "name": "stdout",
     "output_type": "stream",
     "text": [
      "Size of training set: 112 size of test set: 38\n",
      "best score:  1.0\n",
      "best parameters:  {'n_neighbors': 3, 'weights': 'uniform'}\n"
     ]
    }
   ],
   "source": [
    "# naive grid search implementation using Neighbour and Weights\n",
    "X_train, X_test, y_train, y_test = train_test_split(iris.data, iris.target, stratify=iris.target, random_state=0)\n",
    "print(\"Size of training set: %d size of test set: %d\" % (X_train.shape[0], X_test.shape[0]))\n",
    "best_score = 0\n",
    "for n in [1,2,3,4,5,6,7,8,9,10]:\n",
    "    for w in ['uniform', 'distance']:\n",
    "        # for each combination of parameters\n",
    "        # train an knn\n",
    "        knn = KNeighborsClassifier(n_neighbors= n,weights=w)\n",
    "        knn.fit(X_train, y_train)\n",
    "        # evaluate the knn on the test set\n",
    "        score = knn.score(X_test, y_test)\n",
    "        # if we got a better score, store the score and parameters\n",
    "        if score > best_score:\n",
    "            best_score = score\n",
    "            best_parameters = {'n_neighbors': n, 'weights': w}\n",
    "print(\"best score: \", best_score)\n",
    "print(\"best parameters: \", best_parameters)\n"
   ]
  },
  {
   "cell_type": "markdown",
   "metadata": {},
   "source": [
    "# The danger of overfitting the parameters and the validation set"
   ]
  },
  {
   "cell_type": "code",
   "execution_count": 21,
   "metadata": {},
   "outputs": [
    {
     "name": "stdout",
     "output_type": "stream",
     "text": [
      "threefold_split\n"
     ]
    },
    {
     "data": {
      "image/png": "[encoded data removed]",
      "text/plain": [
       "<matplotlib.figure.Figure at 0xd2358d0>"
      ]
     },
     "metadata": {},
     "output_type": "display_data"
    }
   ],
   "source": [
    "print(\"threefold_split\")\n",
    "mglearn.plots.plot_threefold_split()"
   ]
  },
  {
   "cell_type": "code",
   "execution_count": 22,
   "metadata": {},
   "outputs": [
    {
     "name": "stdout",
     "output_type": "stream",
     "text": [
      "Size of training set: 84 size of validation set: 28 size of test set: 38\n"
     ]
    }
   ],
   "source": [
    "X_trainval, X_test, y_trainval, y_test = train_test_split(iris.data, iris.target,stratify=iris.target, random_state=0)\n",
    "# split train+validation set into training and validation set\n",
    "X_train, X_valid, y_train, y_valid = train_test_split(X_trainval, y_trainval, random_state=1)\n",
    "print(\"Size of training set: %d size of validation set: %d size of test set: %d\" % (X_train.shape[0], X_valid.shape[0], X_test.shape[0]))\n"
   ]
  },
  {
   "cell_type": "code",
   "execution_count": 23,
   "metadata": {},
   "outputs": [
    {
     "name": "stdout",
     "output_type": "stream",
     "text": [
      "best score on validation set:  1.0\n",
      "best parameters:  {'n_neighbors': 9, 'weights': 'uniform'}\n",
      "test set score with best parameters:  1.0\n"
     ]
    }
   ],
   "source": [
    "best_score = 0\n",
    "for n in [1,2,3,4,5,6,7,8,9,10]:\n",
    "    for w in ['uniform', 'distance']:\n",
    "        # for each combination of parameters\n",
    "        # train an KNN\n",
    "        knn = KNeighborsClassifier(n_neighbors= n,weights=w)\n",
    "        knn.fit(X_train, y_train)\n",
    "        # evaluate the knn on the test set\n",
    "        score = knn.score(X_valid, y_valid)\n",
    "        # if we got a better score, store the score and parameters\n",
    "        if score > best_score:\n",
    "            best_score = score\n",
    "            best_parameters = {'n_neighbors': n, 'weights': w}\n",
    "# rebuild a model on the combined training and validation set, and evaluate it on the test set\n",
    "knn = KNeighborsClassifier(**best_parameters)\n",
    "knn.fit(X_trainval, y_trainval)\n",
    "test_score = knn.score(X_test, y_test)\n",
    "print(\"best score on validation set: \", best_score)\n",
    "print(\"best parameters: \", best_parameters)\n",
    "print(\"test set score with best parameters: \", test_score)"
   ]
  },
  {
   "cell_type": "markdown",
   "metadata": {},
   "source": [
    "# Model improvement using hyperparameter tuning with cross-validation\n",
    "----\n",
    "For a better estimate of the generalization performance,\n",
    "instead of using a single split into a training and a validation set, we can use crossvalidation\n",
    "to evaluate the performance of each parameter combination."
   ]
  },
  {
   "cell_type": "code",
   "execution_count": 24,
   "metadata": {},
   "outputs": [
    {
     "name": "stdout",
     "output_type": "stream",
     "text": [
      "best score on validation set:  0.946861471861\n",
      "best parameters:  {'n_neighbors': 3, 'weights': 'uniform'}\n",
      "test set score with best parameters:  1.0\n"
     ]
    }
   ],
   "source": [
    "import numpy as np\n",
    "X_trainval, X_test, y_trainval, y_test = train_test_split(iris.data, iris.target, stratify=iris.target, random_state=0)\n",
    "best_score = 0\n",
    "for n in [1,2,3,4,5,6,7,8,9,10]:\n",
    "    for w in ['uniform', 'distance']:\n",
    "        # for each combination of parameters\n",
    "        # train an KNN\n",
    "        knn = KNeighborsClassifier(n_neighbors= n,weights=w)\n",
    "        # perform cross-validation\n",
    "        scores = cross_val_score(knn, X_trainval, y_trainval, cv=5)\n",
    "        # compute mean cross-validation accuracy\n",
    "        score = np.mean(scores)\n",
    "        # if we got a better score, store the score and parameters\n",
    "        if score > best_score:\n",
    "            best_score = score\n",
    "            best_parameters = {'n_neighbors': n, 'weights': w}\n",
    "# rebuild a model on the combined training and validation set, and evaluate it on the test set\n",
    "knn = KNeighborsClassifier(**best_parameters)\n",
    "knn.fit(X_trainval, y_trainval)\n",
    "test_score = knn.score(X_test, y_test)\n",
    "print(\"best score on validation set: \", best_score)\n",
    "print(\"best parameters: \", best_parameters)\n",
    "print(\"test set score with best parameters: \", test_score)\n"
   ]
  },
  {
   "cell_type": "markdown",
   "metadata": {},
   "source": [
    "Trained Models Count?"
   ]
  },
  {
   "cell_type": "markdown",
   "metadata": {},
   "source": [
    "# GridSearchCV (A meta classifier)\n",
    "----\n",
    "To use the GridSearchCV class, you first need to specify the\n",
    "parameters you want to search over using a dictionary. GridSearchCV will then perform\n",
    "all the necessary model fits. The keys of the dictionary are the names of parameters\n",
    "we want to adjust"
   ]
  },
  {
   "cell_type": "code",
   "execution_count": 25,
   "metadata": {},
   "outputs": [
    {
     "name": "stdout",
     "output_type": "stream",
     "text": [
      "{'n_neighbors': [1, 2, 3, 4, 5, 6, 7, 8, 9, 10], 'weights': ['uniform', 'distance']}\n"
     ]
    }
   ],
   "source": [
    "param_grid = {'n_neighbors':[1,2,3,4,5,6,7,8,9,10], 'weights':['uniform', 'distance']}\n",
    "print (param_grid)"
   ]
  },
  {
   "cell_type": "code",
   "execution_count": 26,
   "metadata": {},
   "outputs": [
    {
     "data": {
      "text/plain": [
       "GridSearchCV(cv=5, error_score='raise',\n",
       "       estimator=KNeighborsClassifier(algorithm='auto', leaf_size=30, metric='minkowski',\n",
       "           metric_params=None, n_jobs=1, n_neighbors=5, p=2,\n",
       "           weights='uniform'),\n",
       "       fit_params=None, iid=True, n_jobs=1,\n",
       "       param_grid={'n_neighbors': [1, 2, 3, 4, 5, 6, 7, 8, 9, 10], 'weights': ['uniform', 'distance']},\n",
       "       pre_dispatch='2*n_jobs', refit=True, return_train_score='warn',\n",
       "       scoring=None, verbose=0)"
      ]
     },
     "execution_count": 26,
     "metadata": {},
     "output_type": "execute_result"
    }
   ],
   "source": [
    "from sklearn.model_selection import GridSearchCV\n",
    "X_train, X_test, y_train, y_test = train_test_split(iris.data, iris.target, stratify=iris.target, random_state=0)\n",
    "\n",
    "grid_search = GridSearchCV(KNeighborsClassifier(), param_grid, cv=5)\n",
    "grid_search.fit(X_train, y_train)\n"
   ]
  },
  {
   "cell_type": "markdown",
   "metadata": {},
   "source": [
    "Fitting the GridSearchCV object not only searches for the best parameters, it also\n",
    "automatically fits a new model on the whole training dataset with the parameters that\n",
    "yielded the best cross-validation performance."
   ]
  },
  {
   "cell_type": "code",
   "execution_count": 27,
   "metadata": {},
   "outputs": [
    {
     "data": {
      "text/plain": [
       "1.0"
      ]
     },
     "execution_count": 27,
     "metadata": {},
     "output_type": "execute_result"
    }
   ],
   "source": [
    "grid_search.score(X_test, y_test)"
   ]
  },
  {
   "cell_type": "markdown",
   "metadata": {},
   "source": [
    "Choosing the parameters using cross-validation, we actually found a model that achieves\n",
    "100% accuracy on the test set. The important part here is that we did not use the\n",
    "test set to choose the parameters.\n",
    "\n",
    "The parameters that were found are scored in the best_params_ attribute, and the\n",
    "best cross-validation accuracy (the mean accuracy over the different splits for this\n",
    "parameter setting) is stored in best_score_:"
   ]
  },
  {
   "cell_type": "code",
   "execution_count": 28,
   "metadata": {},
   "outputs": [
    {
     "name": "stdout",
     "output_type": "stream",
     "text": [
      "{'n_neighbors': 3, 'weights': 'uniform'}\n",
      "0.946428571429\n"
     ]
    }
   ],
   "source": [
    "print(grid_search.best_params_)\n",
    "print(grid_search.best_score_)"
   ]
  },
  {
   "cell_type": "markdown",
   "metadata": {},
   "source": [
    "Again, be careful not to confuse best_score_ with the generalization performance of\n",
    "the model as computed by the score method on the test set. Using the score method\n",
    "(or evaluating the output of the predict method) employs a model trained on the\n",
    "whole training set. The best_score_ attribute stores the mean validation crossvalidation\n",
    "accuracy, with cross-validation performed on the training set.\n",
    "\n",
    "Sometimes it is helpful to have access to the actual model that was found, for example\n",
    "to look at coefficients or feature importances. You can access the model with the best\n",
    "parameters trained on the whole training set using the best_estimator_ attribute.\n",
    "\n",
    "Because grid_search itself has predict and score methods, using best_estimator_\n",
    "is not needed to make predictions or evaluate the model."
   ]
  },
  {
   "cell_type": "code",
   "execution_count": 29,
   "metadata": {},
   "outputs": [
    {
     "data": {
      "text/plain": [
       "KNeighborsClassifier(algorithm='auto', leaf_size=30, metric='minkowski',\n",
       "           metric_params=None, n_jobs=1, n_neighbors=3, p=2,\n",
       "           weights='uniform')"
      ]
     },
     "execution_count": 29,
     "metadata": {},
     "output_type": "execute_result"
    }
   ],
   "source": [
    "grid_search.best_estimator_"
   ]
  },
  {
   "cell_type": "markdown",
   "metadata": {},
   "source": [
    "# Analyzing the result of cross-validation"
   ]
  },
  {
   "cell_type": "code",
   "execution_count": 30,
   "metadata": {},
   "outputs": [
    {
     "name": "stderr",
     "output_type": "stream",
     "text": [
      "C:\\Users\\polyvista\\Anaconda6\\lib\\site-packages\\sklearn\\utils\\deprecation.py:122: FutureWarning: You are accessing a training score ('mean_train_score'), which will not be available by default any more in 0.21. If you need training scores, please set return_train_score=True\n",
      "  warnings.warn(*warn_args, **warn_kwargs)\n",
      "C:\\Users\\polyvista\\Anaconda6\\lib\\site-packages\\sklearn\\utils\\deprecation.py:122: FutureWarning: You are accessing a training score ('split0_train_score'), which will not be available by default any more in 0.21. If you need training scores, please set return_train_score=True\n",
      "  warnings.warn(*warn_args, **warn_kwargs)\n",
      "C:\\Users\\polyvista\\Anaconda6\\lib\\site-packages\\sklearn\\utils\\deprecation.py:122: FutureWarning: You are accessing a training score ('split1_train_score'), which will not be available by default any more in 0.21. If you need training scores, please set return_train_score=True\n",
      "  warnings.warn(*warn_args, **warn_kwargs)\n",
      "C:\\Users\\polyvista\\Anaconda6\\lib\\site-packages\\sklearn\\utils\\deprecation.py:122: FutureWarning: You are accessing a training score ('split2_train_score'), which will not be available by default any more in 0.21. If you need training scores, please set return_train_score=True\n",
      "  warnings.warn(*warn_args, **warn_kwargs)\n",
      "C:\\Users\\polyvista\\Anaconda6\\lib\\site-packages\\sklearn\\utils\\deprecation.py:122: FutureWarning: You are accessing a training score ('split3_train_score'), which will not be available by default any more in 0.21. If you need training scores, please set return_train_score=True\n",
      "  warnings.warn(*warn_args, **warn_kwargs)\n",
      "C:\\Users\\polyvista\\Anaconda6\\lib\\site-packages\\sklearn\\utils\\deprecation.py:122: FutureWarning: You are accessing a training score ('split4_train_score'), which will not be available by default any more in 0.21. If you need training scores, please set return_train_score=True\n",
      "  warnings.warn(*warn_args, **warn_kwargs)\n",
      "C:\\Users\\polyvista\\Anaconda6\\lib\\site-packages\\sklearn\\utils\\deprecation.py:122: FutureWarning: You are accessing a training score ('std_train_score'), which will not be available by default any more in 0.21. If you need training scores, please set return_train_score=True\n",
      "  warnings.warn(*warn_args, **warn_kwargs)\n"
     ]
    },
    {
     "data": {
      "text/plain": [
       "{'mean_fit_time': array([ 0.00100007,  0.0006    ,  0.00020003,  0.00039997,  0.00040002,\n",
       "         0.00019999,  0.00040002,  0.00040002,  0.00039997,  0.00039997,\n",
       "         0.00060005,  0.00019999,  0.00040011,  0.00039997,  0.00040002,\n",
       "         0.00040002,  0.00040002,  0.0006    ,  0.00039997,  0.0006001 ]),\n",
       " 'mean_score_time': array([ 0.00120001,  0.0006001 ,  0.00080009,  0.00060005,  0.00060015,\n",
       "         0.00080004,  0.0006    ,  0.00059996,  0.00060005,  0.00059996,\n",
       "         0.0006001 ,  0.00080009,  0.00060005,  0.0006    ,  0.00079999,\n",
       "         0.00080004,  0.00060005,  0.00060005,  0.00080004,  0.0006    ]),\n",
       " 'mean_test_score': array([ 0.92857143,  0.92857143,  0.91071429,  0.92857143,  0.94642857,\n",
       "         0.94642857,  0.9375    ,  0.94642857,  0.9375    ,  0.94642857,\n",
       "         0.91964286,  0.92857143,  0.92857143,  0.9375    ,  0.92857143,\n",
       "         0.9375    ,  0.92857143,  0.9375    ,  0.92857143,  0.9375    ]),\n",
       " 'mean_train_score': array([ 1.        ,  1.        ,  0.96209013,  1.        ,  0.95319958,\n",
       "         1.        ,  0.95532246,  1.        ,  0.95979298,  1.        ,\n",
       "         0.96426351,  1.        ,  0.96428793,  1.        ,  0.95989233,\n",
       "         1.        ,  0.96201521,  1.        ,  0.9575691 ,  1.        ]),\n",
       " 'param_n_neighbors': masked_array(data = [1 1 2 2 3 3 4 4 5 5 6 6 7 7 8 8 9 9 10 10],\n",
       "              mask = [False False False False False False False False False False False False\n",
       "  False False False False False False False False],\n",
       "        fill_value = ?),\n",
       " 'param_weights': masked_array(data = ['uniform' 'distance' 'uniform' 'distance' 'uniform' 'distance' 'uniform'\n",
       "  'distance' 'uniform' 'distance' 'uniform' 'distance' 'uniform' 'distance'\n",
       "  'uniform' 'distance' 'uniform' 'distance' 'uniform' 'distance'],\n",
       "              mask = [False False False False False False False False False False False False\n",
       "  False False False False False False False False],\n",
       "        fill_value = ?),\n",
       " 'params': [{'n_neighbors': 1, 'weights': 'uniform'},\n",
       "  {'n_neighbors': 1, 'weights': 'distance'},\n",
       "  {'n_neighbors': 2, 'weights': 'uniform'},\n",
       "  {'n_neighbors': 2, 'weights': 'distance'},\n",
       "  {'n_neighbors': 3, 'weights': 'uniform'},\n",
       "  {'n_neighbors': 3, 'weights': 'distance'},\n",
       "  {'n_neighbors': 4, 'weights': 'uniform'},\n",
       "  {'n_neighbors': 4, 'weights': 'distance'},\n",
       "  {'n_neighbors': 5, 'weights': 'uniform'},\n",
       "  {'n_neighbors': 5, 'weights': 'distance'},\n",
       "  {'n_neighbors': 6, 'weights': 'uniform'},\n",
       "  {'n_neighbors': 6, 'weights': 'distance'},\n",
       "  {'n_neighbors': 7, 'weights': 'uniform'},\n",
       "  {'n_neighbors': 7, 'weights': 'distance'},\n",
       "  {'n_neighbors': 8, 'weights': 'uniform'},\n",
       "  {'n_neighbors': 8, 'weights': 'distance'},\n",
       "  {'n_neighbors': 9, 'weights': 'uniform'},\n",
       "  {'n_neighbors': 9, 'weights': 'distance'},\n",
       "  {'n_neighbors': 10, 'weights': 'uniform'},\n",
       "  {'n_neighbors': 10, 'weights': 'distance'}],\n",
       " 'rank_test_score': array([11, 11, 20, 11,  1,  1,  5,  1,  5,  1, 19, 11, 11,  5, 11,  5, 11,\n",
       "         5, 11,  5]),\n",
       " 'split0_test_score': array([ 0.91666667,  0.91666667,  0.875     ,  0.91666667,  0.91666667,\n",
       "         0.91666667,  0.91666667,  0.91666667,  0.91666667,  0.91666667,\n",
       "         0.83333333,  0.91666667,  0.875     ,  0.91666667,  0.83333333,\n",
       "         0.91666667,  0.83333333,  0.91666667,  0.83333333,  0.91666667]),\n",
       " 'split0_train_score': array([ 1.        ,  1.        ,  0.95454545,  1.        ,  0.97727273,\n",
       "         1.        ,  0.95454545,  1.        ,  0.97727273,  1.        ,\n",
       "         0.97727273,  1.        ,  0.97727273,  1.        ,  0.97727273,\n",
       "         1.        ,  0.97727273,  1.        ,  0.97727273,  1.        ]),\n",
       " 'split1_test_score': array([ 0.91666667,  0.91666667,  0.91666667,  0.91666667,  0.95833333,\n",
       "         0.95833333,  0.95833333,  0.95833333,  0.95833333,  0.95833333,\n",
       "         0.95833333,  0.95833333,  0.95833333,  0.95833333,  0.95833333,\n",
       "         0.95833333,  0.95833333,  0.95833333,  0.95833333,  0.95833333]),\n",
       " 'split1_train_score': array([ 1.        ,  1.        ,  0.97727273,  1.        ,  0.94318182,\n",
       "         1.        ,  0.95454545,  1.        ,  0.94318182,  1.        ,\n",
       "         0.95454545,  1.        ,  0.95454545,  1.        ,  0.95454545,\n",
       "         1.        ,  0.94318182,  1.        ,  0.93181818,  1.        ]),\n",
       " 'split2_test_score': array([ 0.90909091,  0.90909091,  0.90909091,  0.90909091,  0.95454545,\n",
       "         0.95454545,  0.95454545,  0.95454545,  0.95454545,  0.95454545,\n",
       "         1.        ,  0.95454545,  1.        ,  0.95454545,  1.        ,\n",
       "         0.95454545,  1.        ,  0.95454545,  1.        ,  0.95454545]),\n",
       " 'split2_train_score': array([ 1.        ,  1.        ,  0.95555556,  1.        ,  0.94444444,\n",
       "         1.        ,  0.94444444,  1.        ,  0.94444444,  1.        ,\n",
       "         0.94444444,  1.        ,  0.95555556,  1.        ,  0.95555556,\n",
       "         1.        ,  0.95555556,  1.        ,  0.96666667,  1.        ]),\n",
       " 'split3_test_score': array([ 0.95238095,  0.95238095,  0.9047619 ,  0.95238095,  0.95238095,\n",
       "         0.95238095,  0.9047619 ,  0.95238095,  0.85714286,  0.9047619 ,\n",
       "         0.85714286,  0.85714286,  0.85714286,  0.9047619 ,  0.9047619 ,\n",
       "         0.9047619 ,  0.9047619 ,  0.9047619 ,  0.9047619 ,  0.9047619 ]),\n",
       " 'split3_train_score': array([ 1.        ,  1.        ,  0.95604396,  1.        ,  0.95604396,\n",
       "         1.        ,  0.95604396,  1.        ,  0.97802198,  1.        ,\n",
       "         0.97802198,  1.        ,  0.97802198,  1.        ,  0.95604396,\n",
       "         1.        ,  0.96703297,  1.        ,  0.97802198,  1.        ]),\n",
       " 'split4_test_score': array([ 0.95238095,  0.95238095,  0.95238095,  0.95238095,  0.95238095,\n",
       "         0.95238095,  0.95238095,  0.95238095,  1.        ,  1.        ,\n",
       "         0.95238095,  0.95238095,  0.95238095,  0.95238095,  0.95238095,\n",
       "         0.95238095,  0.95238095,  0.95238095,  0.95238095,  0.95238095]),\n",
       " 'split4_train_score': array([ 1.        ,  1.        ,  0.96703297,  1.        ,  0.94505495,\n",
       "         1.        ,  0.96703297,  1.        ,  0.95604396,  1.        ,\n",
       "         0.96703297,  1.        ,  0.95604396,  1.        ,  0.95604396,\n",
       "         1.        ,  0.96703297,  1.        ,  0.93406593,  1.        ]),\n",
       " 'std_fit_time': array([ 0.00063256,  0.0004899 ,  0.00040007,  0.00048986,  0.00048992,\n",
       "         0.00039997,  0.00048992,  0.00048992,  0.00048986,  0.00048986,\n",
       "         0.00048994,  0.00039997,  0.00049004,  0.00048986,  0.00048992,\n",
       "         0.00048992,  0.00048992,  0.0004899 ,  0.00048986,  0.00048998]),\n",
       " 'std_score_time': array([ 0.00074838,  0.00048998,  0.00040004,  0.00048994,  0.00049002,\n",
       "         0.00040002,  0.0004899 ,  0.00048986,  0.00048994,  0.00048986,\n",
       "         0.00048998,  0.00040004,  0.00048994,  0.0004899 ,  0.00039999,\n",
       "         0.00040002,  0.00048994,  0.00048994,  0.00040002,  0.0004899 ]),\n",
       " 'std_test_score': array([ 0.01865118,  0.01865118,  0.0247709 ,  0.01865118,  0.0156973 ,\n",
       "         0.0156973 ,  0.02203551,  0.0156973 ,  0.04675729,  0.03311715,\n",
       "         0.06417815,  0.03762477,  0.05357143,  0.02203551,  0.05786376,\n",
       "         0.02203551,  0.05786376,  0.02203551,  0.05786376,  0.02203551]),\n",
       " 'std_train_score': array([ 0.        ,  0.        ,  0.00884445,  0.        ,  0.01289147,\n",
       "         0.        ,  0.0071721 ,  0.        ,  0.01525386,  0.        ,\n",
       "         0.01306477,  0.        ,  0.01092119,  0.        ,  0.00870741,\n",
       "         0.        ,  0.01165823,  0.        ,  0.02051744,  0.        ])}"
      ]
     },
     "execution_count": 30,
     "metadata": {},
     "output_type": "execute_result"
    }
   ],
   "source": [
    "#grid_search.grid_scores_\n",
    "grid_search.cv_results_"
   ]
  },
  {
   "cell_type": "markdown",
   "metadata": {},
   "source": [
    "# Nested cross-validation with grid-search"
   ]
  },
  {
   "cell_type": "code",
   "execution_count": 31,
   "metadata": {},
   "outputs": [
    {
     "name": "stdout",
     "output_type": "stream",
     "text": [
      "Cross-validation scores:  [ 0.96666667  1.          0.96666667  0.93333333  1.        ]\n",
      "Mean cross-validation score:  0.973333333333\n"
     ]
    }
   ],
   "source": [
    "scores = cross_val_score(GridSearchCV(KNeighborsClassifier(), param_grid, cv=5), iris.data, iris.target, cv=5)\n",
    "print(\"Cross-validation scores: \", scores)\n",
    "print(\"Mean cross-validation score: \", scores.mean())"
   ]
  },
  {
   "cell_type": "markdown",
   "metadata": {},
   "source": [
    "# Use following algorithm to train and test"
   ]
  },
  {
   "cell_type": "code",
   "execution_count": 32,
   "metadata": {
    "collapsed": true
   },
   "outputs": [],
   "source": [
    "from sklearn.tree import DecisionTreeClassifier\n",
    "from sklearn.naive_bayes import GaussianNB\n",
    "from sklearn.linear_model import LogisticRegression\n"
   ]
  }
 ],
 "metadata": {
  "kernelspec": {
   "display_name": "Python 3",
   "language": "python",
   "name": "python3"
  },
  "language_info": {
   "codemirror_mode": {
    "name": "ipython",
    "version": 3
   },
   "file_extension": ".py",
   "mimetype": "text/x-python",
   "name": "python",
   "nbconvert_exporter": "python",
   "pygments_lexer": "ipython3",
   "version": "3.6.3"
  }
 },
 "nbformat": 4,
 "nbformat_minor": 2
}
